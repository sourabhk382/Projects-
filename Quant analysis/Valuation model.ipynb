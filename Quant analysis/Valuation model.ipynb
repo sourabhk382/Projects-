{
 "cells": [
  {
   "cell_type": "code",
   "execution_count": null,
   "id": "1b509f3e",
   "metadata": {},
   "outputs": [],
   "source": [
    "from nsepy import get_history\n",
    "import pandas as pd   \n",
    "import numpy as np \n",
    "pd.plotting.register_matplotlib_converters()\n",
    "import matplotlib.pyplot as plt \n",
    "%matplotlib inline\n",
    "import seaborn as sns\n",
    "from datetime import date \n",
    "import yfinance as yf "
   ]
  },
  {
   "cell_type": "code",
   "execution_count": null,
   "id": "9883abf8",
   "metadata": {},
   "outputs": [],
   "source": [
    "pharma_list = [\"DIVISLAB.NS\", \"DRREDDY.NS\", \"CIPLA.NS\", \"SUNPHARMA.NS\", \"AUROPHARMA.NS\",\"ABBOTINDIA.NS\", \n",
    "               \"GLAND.NS\",\"LAURUSLABS.NS\",\"GRANULES.NS\", \"ALKEM.NS\",\"IPCALAB.NS\",\"AJANTPHARM.NS\",\"LUPIN.NS\",\n",
    "              \"TORNTPHARM.NS\", \"CADILAHC.NS\",\"GLAXO.NS\",\"PFIZER.NS\",\"SANOFI.NS\",\"APLLTD.NS\", \"NATCOPHARM.NS\",\n",
    "              \"GLENMARK.NS\", \"SUVENPHAR.NS\",\"ERIS.NS\",\"AARTIDRUGS.NS\",\"WOCKPHARMA.NS\"] \n",
    "pharma_data= {}"
   ]
  },
  {
   "cell_type": "code",
   "execution_count": null,
   "id": "9e5410cc",
   "metadata": {},
   "outputs": [],
   "source": [
    "for ticker in pharma_list: \n",
    "    ticker_object = yf.Ticker(ticker) \n",
    "\n",
    "    #convert info() output from dictionary to dataframe\n",
    "    temp = pd.DataFrame.from_dict(ticker_object.info, orient=\"index\") \n",
    "    temp.reset_index(inplace=True)\n",
    "    temp.columns = [\"Attribute\", \"Recent\"]\n",
    "    \n",
    "    # add (ticker, dataframe) to main dictionary\n",
    "    pharma_data[ticker] = temp\n",
    "pharma_data"
   ]
  },
  {
   "cell_type": "code",
   "execution_count": null,
   "id": "88093da1",
   "metadata": {},
   "outputs": [],
   "source": [
    "combined_data = pd.concat(pharma_data)\n",
    "combined_data = combined_data.reset_index() "
   ]
  },
  {
   "cell_type": "code",
   "execution_count": null,
   "id": "f86741cc",
   "metadata": {},
   "outputs": [],
   "source": [
    "del combined_data[\"level_1\"]\n",
    "combined_data.columns = [\"Ticker\", \"Attribute\", \"Recent\"] # update column names \n",
    "\n",
    "combined_data"
   ]
  },
  {
   "cell_type": "code",
   "execution_count": null,
   "id": "f2beba61",
   "metadata": {},
   "outputs": [],
   "source": [
    "enterpriseToEbitda = combined_data[combined_data[\"Attribute\"]==\"enterpriseToEbitda\"].reset_index() \n",
    "del enterpriseToEbitda[\"index\"] # clean up unnecessary column "
   ]
  },
  {
   "cell_type": "code",
   "execution_count": null,
   "id": "431a7f73",
   "metadata": {},
   "outputs": [],
   "source": [
    "enterpriseToEbitda_sorted = enterpriseToEbitda.sort_values('Recent',ascending=True) \n",
    "enterpriseToEbitda_sorted"
   ]
  },
  {
   "cell_type": "code",
   "execution_count": null,
   "id": "da11905c",
   "metadata": {},
   "outputs": [],
   "source": [
    "enterpriseToEbitda = combined_data[combined_data[\"Attribute\"]==\"enterpriseToEbitda\"].reset_index()\n",
    "forwardPE=combined_data[combined_data[\"Attribute\"]==\"forwardPE\"].reset_index()\n",
    "trailingPE=combined_data[combined_data[\"Attribute\"]==\"trailingPE\"].reset_index()\n",
    "earninggrowth=combined_data[combined_data[\"Attribute\"]==\"earningsGrowth\"].reset_index() \n",
    "\n",
    "del enterpriseToEbitda[\"index\"] # clean up unnecessary column\n",
    "del forwardPE[\"index\"]\n",
    "del trailingPE[\"index\"]\n",
    "\n",
    "pharma_valuation1=enterpriseToEbitda.join(forwardPE['Recent'],lsuffix='_ev/ebitda',rsuffix='_forwardPE') \n",
    "del pharma_valuation1['Attribute'] \n",
    "pharma_valuation1 \n",
    "pharma_valuation2=pharma_valuation1.join(trailingPE['Recent'],lsuffix='',rsuffix='') \n",
    "pharma_valuation2=pharma_valuation2.rename(columns={'Recent':'TrailingPE'})  \n",
    "pharma_valuation3=pharma_valuation2.join(earninggrowth['Recent'],lsuffix='',rsuffix='') \n",
    "pharma_valuation3=pharma_valuation3.rename(columns={'Recent':'Earninggrowth'})  \n",
    "pharma_valuation3"
   ]
  },
  {
   "cell_type": "code",
   "execution_count": null,
   "id": "8839f862",
   "metadata": {},
   "outputs": [],
   "source": [
    "pharma_valuation=pharma_valuation3[0:24]\n",
    "x = pharma_valuation.iloc[:, [1, 4]].values  "
   ]
  },
  {
   "cell_type": "code",
   "execution_count": null,
   "id": "14e9051e",
   "metadata": {},
   "outputs": [],
   "source": [
    "from sklearn.cluster import KMeans\n",
    "kmeans=KMeans(n_clusters=3, n_init=5)\n",
    "kmeans.fit_predict(x)"
   ]
  },
  {
   "cell_type": "code",
   "execution_count": null,
   "id": "2d9e82a4",
   "metadata": {},
   "outputs": [],
   "source": [
    "pharma_valuation['Cluster']=kmeans.fit_predict(x)"
   ]
  },
  {
   "cell_type": "code",
   "execution_count": null,
   "id": "2dccbe93",
   "metadata": {},
   "outputs": [],
   "source": [
    "pharma_valuation"
   ]
  },
  {
   "cell_type": "code",
   "execution_count": null,
   "id": "96d86ad7",
   "metadata": {},
   "outputs": [],
   "source": [
    "pharma_valuation['Cluster']=pharma_valuation['Cluster'].astype(\"category\")"
   ]
  },
  {
   "cell_type": "code",
   "execution_count": 1,
   "id": "95c3bc0b",
   "metadata": {},
   "outputs": [
    {
     "ename": "NameError",
     "evalue": "name 'sns' is not defined",
     "output_type": "error",
     "traceback": [
      "\u001b[1;31m---------------------------------------------------------------------------\u001b[0m",
      "\u001b[1;31mNameError\u001b[0m                                 Traceback (most recent call last)",
      "\u001b[1;32m~\\AppData\\Local\\Temp/ipykernel_8860/1543855971.py\u001b[0m in \u001b[0;36m<module>\u001b[1;34m\u001b[0m\n\u001b[1;32m----> 1\u001b[1;33m \u001b[0msns\u001b[0m\u001b[1;33m.\u001b[0m\u001b[0mrelplot\u001b[0m\u001b[1;33m(\u001b[0m\u001b[0mx\u001b[0m\u001b[1;33m=\u001b[0m\u001b[1;34m\"Recent_ev/ebitda\"\u001b[0m\u001b[1;33m,\u001b[0m\u001b[0my\u001b[0m\u001b[1;33m=\u001b[0m\u001b[1;34m\"Earninggrowth\"\u001b[0m\u001b[1;33m,\u001b[0m\u001b[0mhue\u001b[0m\u001b[1;33m=\u001b[0m\u001b[1;34m'Cluster'\u001b[0m\u001b[1;33m,\u001b[0m\u001b[0mdata\u001b[0m\u001b[1;33m=\u001b[0m\u001b[0mpharma_valuation\u001b[0m\u001b[1;33m,\u001b[0m \u001b[0mheight\u001b[0m\u001b[1;33m=\u001b[0m\u001b[1;36m6\u001b[0m\u001b[1;33m)\u001b[0m\u001b[1;33m\u001b[0m\u001b[1;33m\u001b[0m\u001b[0m\n\u001b[0m",
      "\u001b[1;31mNameError\u001b[0m: name 'sns' is not defined"
     ]
    }
   ],
   "source": [
    "sns.relplot(x=\"Recent_ev/ebitda\",y=\"Earninggrowth\",hue='Cluster',data=pharma_valuation, height=6)"
   ]
  }
 ],
 "metadata": {
  "kernelspec": {
   "display_name": "Python 3 (ipykernel)",
   "language": "python",
   "name": "python3"
  },
  "language_info": {
   "codemirror_mode": {
    "name": "ipython",
    "version": 3
   },
   "file_extension": ".py",
   "mimetype": "text/x-python",
   "name": "python",
   "nbconvert_exporter": "python",
   "pygments_lexer": "ipython3",
   "version": "3.9.7"
  }
 },
 "nbformat": 4,
 "nbformat_minor": 5
}
